{
 "cells": [
  {
   "cell_type": "markdown",
   "id": "306f1a67-4f1c-4aed-8f80-2a8458a1bce5",
   "metadata": {},
   "source": [
    "# Stock data analysis"
   ]
  },
  {
   "cell_type": "code",
   "execution_count": 1,
   "id": "4e2a9393-7767-488e-a8bf-27c12dca35bd",
   "metadata": {},
   "outputs": [],
   "source": [
    "import os\n",
    "import requests\n",
    "from dotenv import load_dotenv\n",
    "from bs4 import BeautifulSoup\n",
    "from IPython.display import Markdown, display\n",
    "from openai import OpenAI\n",
    "\n",
    "# If you get an error running this cell, then please head over to the troubleshooting notebook!"
   ]
  },
  {
   "cell_type": "markdown",
   "id": "6900b2a8-6384-4316-8aaa-5e519fca4254",
   "metadata": {},
   "source": [
    "# Connecting to OpenAI"
   ]
  },
  {
   "cell_type": "code",
   "execution_count": 2,
   "id": "7b87cadb-d513-4303-baee-a37b6f938e4d",
   "metadata": {},
   "outputs": [
    {
     "name": "stdout",
     "output_type": "stream",
     "text": [
      "API key found and looks good so far!\n"
     ]
    }
   ],
   "source": [
    "# Load environment variables in a file called .env\n",
    "\n",
    "load_dotenv(override=True)\n",
    "api_key = os.getenv('OPENAI_API_KEY')\n",
    "\n",
    "# Check the key\n",
    "\n",
    "if not api_key:\n",
    "    print(\"No API key was found - please head over to the troubleshooting notebook in this folder to identify & fix!\")\n",
    "elif not api_key.startswith(\"sk-proj-\"):\n",
    "    print(\"An API key was found, but it doesn't start sk-proj-; please check you're using the right key - see troubleshooting notebook\")\n",
    "elif api_key.strip() != api_key:\n",
    "    print(\"An API key was found, but it looks like it might have space or tab characters at the start or end - please remove them - see troubleshooting notebook\")\n",
    "else:\n",
    "    print(\"API key found and looks good so far!\")\n"
   ]
  },
  {
   "cell_type": "code",
   "execution_count": 3,
   "id": "019974d9-f3ad-4a8a-b5f9-0a3719aea2d3",
   "metadata": {},
   "outputs": [],
   "source": [
    "openai = OpenAI()"
   ]
  },
  {
   "cell_type": "code",
   "execution_count": 4,
   "id": "51d42a08-188e-4c56-9578-47cd549bd1d8",
   "metadata": {},
   "outputs": [],
   "source": [
    "from urllib.parse import urlencode\n",
    "import datetime\n",
    "\n",
    "headers = {\n",
    " \"User-Agent\": \"Mozilla/5.0 (Windows NT 10.0; Win64; x64) AppleWebKit/537.36 (KHTML, like Gecko) Chrome/117.0.0.0 Safari/537.36\"\n",
    "}"
   ]
  },
  {
   "cell_type": "code",
   "execution_count": 5,
   "id": "682eff74-55c4-4d4b-b267-703edbc293c7",
   "metadata": {},
   "outputs": [],
   "source": [
    "class YahooFinanceWebsite:\n",
    "    def __init__(self, stock_symbol):\n",
    "        \"\"\"\n",
    "        Create this Website object from the given url using the BeautifulSoup library\n",
    "        \"\"\"\n",
    "        self.stock_symbol = stock_symbol.upper()\n",
    "\n",
    "    def __build_url(self, params):\n",
    "        base_url = f\"https://finance.yahoo.com/quote/{self.stock_symbol}/history/\"\n",
    "        query_string = urlencode(params)\n",
    "        return f\"{base_url}?{query_string}\"\n",
    "\n",
    "    def get_stock_data(self):\n",
    "        datetime_now = datetime.datetime.now()\n",
    "        datetime_year_ago = datetime_now - datetime.timedelta(days=365)\n",
    "        params = {\"frequency\": \"1wk\", \"period1\": datetime_year_ago.timestamp(), \"period2\": datetime_now.timestamp()}\n",
    "        url = self.__build_url(params)\n",
    "        response = requests.get(url, headers=headers)\n",
    "\n",
    "        soup = BeautifulSoup(response.content, 'html.parser')\n",
    "        \n",
    "        title = soup.title.string if soup.title else \"No title found\"\n",
    "        for irrelevant in soup.body([\"script\", \"style\", \"img\", \"input\"]):\n",
    "            irrelevant.decompose()\n",
    "\n",
    "        html_table_data = soup.find(\"table\")\n",
    "\n",
    "        return title, html_table_data"
   ]
  },
  {
   "cell_type": "code",
   "execution_count": 6,
   "id": "70b8d7e7-51e7-4392-9b85-9ac9f67a907c",
   "metadata": {},
   "outputs": [],
   "source": [
    "def build_stock_analysis_prompt(stock_symbol, title, stock_table_data):\n",
    "    sys_prompt = r\"\"\"You are an assistant that analyzes the contents of HTML formated table that contains data on a specific stock.\n",
    "    The HTML table contains the date, open price, close price, low and highs aggregated for every week over one year timeframe.\n",
    "    Ignoring text, tags or html attributes that might be navigation related. \n",
    "    Respond in Markdown format\"\"\"\n",
    "    \n",
    "    user_prompt = f\"The data provided below in the HTML table format for {stock_symbol} from the Yahoo Finances.\\\n",
    "    Make the explaination easy enough for a newbie to understand. \\\n",
    "    Analyze and Summarize the trends on this stock:\\n{stock_table_data}\\n\\n\\\n",
    "    Also, calculate the total returns in percentage one could have expected over this period.\"\n",
    "    \n",
    "    return [\n",
    "        {\"role\": \"system\", \"content\": sys_prompt},\n",
    "        {\"role\": \"user\", \"content\": user_prompt}\n",
    "    ]"
   ]
  },
  {
   "cell_type": "code",
   "execution_count": 7,
   "id": "de514421-4cc8-4881-85b4-97f03e94c589",
   "metadata": {},
   "outputs": [],
   "source": [
    "def analyze_stock_trends(stock_symbol):\n",
    "    stock_data_page = YahooFinanceWebsite(stock_symbol)\n",
    "    title, stock_table_data = stock_data_page.get_stock_data()\n",
    "    response = openai.chat.completions.create(\n",
    "        model = \"gpt-4o-mini\",\n",
    "        messages = build_stock_analysis_prompt(stock_symbol, title, stock_table_data)\n",
    "    )\n",
    "    return response.choices[0].message.content\n",
    "\n",
    "def display_analysis(stock_symbol):\n",
    "    display(Markdown(analyze_stock_trends(stock_symbol)))"
   ]
  },
  {
   "cell_type": "code",
   "execution_count": 8,
   "id": "41acc36f-484a-4257-a240-cf27520e7396",
   "metadata": {},
   "outputs": [
    {
     "data": {
      "text/markdown": [
       "# GOOG Stock Trends Analysis\n",
       "\n",
       "Here's a breakdown of the trends noticed in the provided data for Google's stock (GOOG) over the observed time frame:\n",
       "\n",
       "## General Observations\n",
       "\n",
       "1. **Price Fluctuations**:\n",
       "   - The stock opened at **165.32** on March 14, 2025, and reached a high of **170.16** just a week before.\n",
       "   - Significant fluctuations can be noted throughout the year, with highs and lows indicating varying investor sentiments and market conditions.\n",
       "\n",
       "2. **Overall Trend**:\n",
       "   - The stock has seen both upward and downward trends, but appears to have fluctuated largely within the range of **150-200** during the specified timeframe.\n",
       "   - Notable highs were recorded, with peaks around **189.99** and **208.70** observed in early February 2025.\n",
       "\n",
       "3. **Recent Movements**:\n",
       "   - The stock price saw a substantial drop from levels over **200** in February 2025 to the **165-170** range by mid-March 2025.\n",
       "   - This behavior might indicate market corrections or reactions to broader economic factors affecting technology stocks.\n",
       "\n",
       "4. **Volume Changes**:\n",
       "   - The trading volume over the observed weeks has shown variability. High trading volumes, like **106,375,800** and **139,159,100**, correspond with periods of sharp price changes.\n",
       "   - A spike in volume is generally an indicator of increased interest and can correlate with significant price movements.\n",
       "\n",
       "5. **Dividends**:\n",
       "   - Several dividends were declared during the time, such as **$0.20** on March 10, 2025, which can add slight returns to investors who hold stocks.\n",
       "\n",
       "## Calculating Total Returns\n",
       "\n",
       "To find the total returns over this period, we look at the price change from the beginning to the end of the timeframe, following this simple formula:\n",
       "\n",
       "\\[\n",
       "\\text{Total Returns \\%} = \\left( \\frac{\\text{Final Price} - \\text{Initial Price}}{\\text{Initial Price}} \\right) \\times 100\n",
       "\\]\n",
       "\n",
       "### Given Data:\n",
       "- **Initial Price (March 25, 2024)**: 150.95\n",
       "- **Final Price (March 14, 2025)**: 167.62\n",
       "\n",
       "### Calculation:\n",
       "- Total Returns \\% = \n",
       "\\[\n",
       "\\left( \\frac{167.62 - 150.95}{150.95} \\right) \\times 100 \\approx \\left( \\frac{16.67}{150.95} \\right) \\times 100 \\approx 11.04\\%\n",
       "\\]\n",
       "\n",
       "## Conclusion\n",
       "\n",
       "- **Short-Term Investment Outlook**: Given the above findings, GOOG displayed volatility but showed an approximate **11.04% total return** over this period. This can be considered a reasonable investment return, especially against the backdrop of technology market conditions.\n",
       "- **Long-Term View**: If you are considering investing in GOOG, while the fluctuations can be alarming in a short term, this stock has historically shown significant growth over longer periods. Understanding market trends and staying informed will be key for successful investing. \n",
       "\n",
       "In summary, GOOG presents a fluctuating yet moderately promising investment profile, emphasizing the importance of both timing and patience when investing in the stock market."
      ],
      "text/plain": [
       "<IPython.core.display.Markdown object>"
      ]
     },
     "metadata": {},
     "output_type": "display_data"
    }
   ],
   "source": [
    "display_analysis(\"GOOG\")"
   ]
  },
  {
   "cell_type": "code",
   "execution_count": 9,
   "id": "7e09541f-bbc4-4cf3-a1ef-9ed5e1b718e4",
   "metadata": {},
   "outputs": [
    {
     "data": {
      "text/markdown": [
       "## Analysis of Pfizer Inc. Stock Data (PFE)\n",
       "\n",
       "### Overview\n",
       "The data provided shows weekly stock prices for Pfizer Inc. (PFE) over a specific period, including the opening price, closing price, highest price, lowest price, and trading volume. The aim is to identify trends and calculate the total return on investment.\n",
       "\n",
       "### Key Metrics to Understand\n",
       "- **Open Price**: The price of the stock at the market's opening.\n",
       "- **Close Price**: The price at which the stock closes at the end of trading hours.\n",
       "- **High Price**: The highest price reached during the trading session.\n",
       "- **Low Price**: The lowest price during the trading session.\n",
       "- **Volume**: The number of shares traded during the period.\n",
       "\n",
       "### Trend Analysis\n",
       "1. **Overall Trend**:\n",
       "   - The stock seems to show fluctuating performance over the observed timeframe, with periods of both high and low prices. \n",
       "   - Here are some highlighted points:\n",
       "     - In early March 2025, the stock hovered around the **$26 range**, fluctuating between **$25.50 to $27.24**.\n",
       "     - A significant drop can be seen around November 2024, where prices dipped to **$24.80 - $25.65** range.\n",
       "     - The stock price most recently peaked at around **$31.54** in July 2024, indicating the potential for growth within the stock.\n",
       "\n",
       "2. **Recent Performance**:\n",
       "   - In late 2024, the stock experienced a drop in prices, with a closing price of **$25.72** in mid-March 2025, indicating a decrease compared to the early 2024 highs.\n",
       "   - Higher trading volumes were observed during the overall fluctuation periods, indicating investor interest during these price changes, particularly around major peaks and drops.\n",
       "\n",
       "3. **Dividend Events**:\n",
       "   - The table indicates dividend payments (e.g., **$0.42** and **$0.43**), which contribute to the total returns for investors receiving dividends, representing an essential aspect of returns on investment.\n",
       "\n",
       "### Total Return Calculation\n",
       "To calculate the total return, we use the following formula:\n",
       "\n",
       "\\[\n",
       "\\text{Total Return (\\%)} = \\left(\\frac{\\text{Final Value} - \\text{Initial Value}}{\\text{Initial Value}}\\right) \\times 100\n",
       "\\]\n",
       "\n",
       "#### Values from the Data\n",
       "- **Initial Value** (Earliest close price recorded in the dataset from July 2024): \\( \\text{Close price on Jul 1, 2024} = 28.05 \\)\n",
       "- **Final Value** (Latest close price recorded on Mar 14, 2025): \\( \\text{Close price on Mar 14, 2025} = 25.72 \\)\n",
       "\n",
       "\\[\n",
       "\\text{Total Return (\\%)} = \\left(\\frac{25.72 - 28.05}{28.05}\\right) \\times 100\n",
       "\\]\n",
       "\\[\n",
       "\\text{Total Return (\\%)} = \\left(\\frac{-2.33}{28.05}\\right) \\times 100 \\approx -8.31\\%\n",
       "\\]\n",
       "\n",
       "### Conclusion\n",
       "- **Trend Summary**: The stock saw highs above $30 but has generally changed in a downward trend, culminating in a total return of approximately -8.31%. This indicates a decrease in the stock's value over the observed period.\n",
       "- **Investment Consideration**: Potential investors should consider the volatility and recent downward trend, coupled with dividend returns, which may provide some cushion against losses.\n",
       "\n",
       "In summary, PFE's performance had highs and lows, with a notable decline in recent periods, which should be critically evaluated for investment purposes."
      ],
      "text/plain": [
       "<IPython.core.display.Markdown object>"
      ]
     },
     "metadata": {},
     "output_type": "display_data"
    }
   ],
   "source": [
    "display_analysis(\"PFE\")"
   ]
  },
  {
   "cell_type": "code",
   "execution_count": 10,
   "id": "e6af9395-0c5c-4265-a309-baba786bfa71",
   "metadata": {},
   "outputs": [
    {
     "data": {
      "text/markdown": [
       "# AAPL Stock Trends Analysis\n",
       "\n",
       "## Summary of Data\n",
       "\n",
       "The provided data shows the weekly performance of Apple Inc. (AAPL) over recent months. It includes key metrics such as:\n",
       "\n",
       "- **Open Price**: The price at which the stock started the week.\n",
       "- **High Price**: The highest price during the week.\n",
       "- **Low Price**: The lowest price during the week.\n",
       "- **Close Price**: The price at which the stock closed for the week.\n",
       "- **Adjusted Close Price**: This reflects the closing price adjusted for dividends and stock splits.\n",
       "- **Volume**: The total number of shares traded during the week.\n",
       "\n",
       "### Key Trends:\n",
       "\n",
       "1. **Price Fluctuations**:\n",
       "   - Over the most recent weeks, AAPL has shown significant price fluctuations. \n",
       "   - The stock opened at **211.25** on **March 14, 2025**, and reached a weekly high of **244.03** on **March 3, 2025**.\n",
       "\n",
       "2. **Volatility**:\n",
       "   - AAPL witnessed high volatility with significant swings in prices. For instance, the closing prices fluctuated close to **20%** from week to week.\n",
       "\n",
       "3. **Recent Highs and Lows**:\n",
       "   - The stock reached a peak close price of **244.60** on **February 10, 2025** and bottomed at **165.00** on **April 15, 2024**, showing a downward trend in some weeks.\n",
       "\n",
       "4. **Dividends**:\n",
       "   - AAPL paid dividends of **$0.25** on several occasions during the observed period, which is a positive sign of financial health and a commitment to returning value to shareholders.\n",
       "\n",
       "5. **Volume Trends**:\n",
       "   - There were weeks with very high trading volumes, such as **635.75 million** shares traded on **June 10, 2024**. This can indicate increased investor interest or volatility during those weeks.\n",
       "\n",
       "### Overall Trend\n",
       "\n",
       "From a broader perspective, the stock began at approximately **191.51** in late May 2024 and has shown intervals of growth and decline throughout the subsequent months. The stock's recent performance and closing prices indicate that AAPL stock is currently experiencing a rebound, albeit with signs of market volatility.\n",
       "\n",
       "## Calculation of Total Returns\n",
       "\n",
       "To calculate the total returns over this period from **May 6, 2024** to **March 14, 2025**:\n",
       "\n",
       "1. **Start Price (May 6, 2024)**: 183.05\n",
       "2. **End Price (March 14, 2025)**: 213.49\n",
       "\n",
       "### Total Return Calculation:\n",
       "\n",
       "\\[\n",
       "\\text{Total Return} = \\left( \\frac{\\text{End Price} - \\text{Start Price}}{\\text{Start Price}} \\right) \\times 100\n",
       "\\]\n",
       "\n",
       "Substituting the values:\n",
       "\n",
       "\\[\n",
       "\\text{Total Return} = \\left( \\frac{213.49 - 183.05}{183.05} \\right) \\times 100 = \\left( \\frac{30.44}{183.05} \\right) \\times 100 \\approx 16.63\\%\n",
       "\\]\n",
       "\n",
       "## Conclusion\n",
       "\n",
       "Overall, if an investor held AAPL stock from May 6, 2024, to March 14, 2025, they could have expected a total return of approximately **16.63%**, alongside dividends, reflecting reasonable growth in a volatile market. Investors should keep an eye on market trends and stay informed about upcoming earnings reports and market sentiments that may influence stock prices further."
      ],
      "text/plain": [
       "<IPython.core.display.Markdown object>"
      ]
     },
     "metadata": {},
     "output_type": "display_data"
    }
   ],
   "source": [
    "display_analysis(\"AAPL\")"
   ]
  },
  {
   "cell_type": "code",
   "execution_count": null,
   "id": "afe4f6d1-a6ea-44b5-81ae-8e756cfc0d84",
   "metadata": {},
   "outputs": [],
   "source": []
  },
  {
   "cell_type": "code",
   "execution_count": null,
   "id": "f7e08f29",
   "metadata": {},
   "outputs": [],
   "source": []
  }
 ],
 "metadata": {
  "kernelspec": {
   "display_name": "llms",
   "language": "python",
   "name": "python3"
  },
  "language_info": {
   "codemirror_mode": {
    "name": "ipython",
    "version": 3
   },
   "file_extension": ".py",
   "mimetype": "text/x-python",
   "name": "python",
   "nbconvert_exporter": "python",
   "pygments_lexer": "ipython3",
   "version": "3.11.4"
  }
 },
 "nbformat": 4,
 "nbformat_minor": 5
}
